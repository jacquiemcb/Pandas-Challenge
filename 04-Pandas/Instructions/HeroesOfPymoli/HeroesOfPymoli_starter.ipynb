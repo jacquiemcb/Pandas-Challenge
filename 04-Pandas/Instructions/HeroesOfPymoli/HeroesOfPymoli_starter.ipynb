{
 "cells": [
  {
   "cell_type": "markdown",
   "metadata": {},
   "source": [
    "### Note\n",
    "* Instructions have been included for each segment. You do not have to follow them exactly, but they are included to help you think through the steps."
   ]
  },
  {
   "cell_type": "code",
   "execution_count": 40,
   "metadata": {},
   "outputs": [],
   "source": [
    "# Dependencies and Setup\n",
    "import pandas as pd\n",
    "import numpy as np\n",
    "\n",
    "# File to Load (Remember to Change These)\n",
    "file_to_load = \"Resources/purchase_data.csv\"\n",
    "\n",
    "# Read Purchasing File and store into Pandas data frame\n",
    "purchase_data = pd.read_csv(file_to_load)"
   ]
  },
  {
   "cell_type": "markdown",
   "metadata": {},
   "source": [
    "## Player Count"
   ]
  },
  {
   "cell_type": "markdown",
   "metadata": {},
   "source": [
    "* Display the total number of players\n"
   ]
  },
  {
   "cell_type": "code",
   "execution_count": 41,
   "metadata": {},
   "outputs": [
    {
     "data": {
      "text/html": [
       "<div>\n",
       "<style scoped>\n",
       "    .dataframe tbody tr th:only-of-type {\n",
       "        vertical-align: middle;\n",
       "    }\n",
       "\n",
       "    .dataframe tbody tr th {\n",
       "        vertical-align: top;\n",
       "    }\n",
       "\n",
       "    .dataframe thead th {\n",
       "        text-align: right;\n",
       "    }\n",
       "</style>\n",
       "<table border=\"1\" class=\"dataframe\">\n",
       "  <thead>\n",
       "    <tr style=\"text-align: right;\">\n",
       "      <th></th>\n",
       "      <th>Total Players</th>\n",
       "    </tr>\n",
       "  </thead>\n",
       "  <tbody>\n",
       "    <tr>\n",
       "      <th>0</th>\n",
       "      <td>576</td>\n",
       "    </tr>\n",
       "  </tbody>\n",
       "</table>\n",
       "</div>"
      ],
      "text/plain": [
       "   Total Players\n",
       "0            576"
      ]
     },
     "execution_count": 41,
     "metadata": {},
     "output_type": "execute_result"
    }
   ],
   "source": [
    "total_players=len(purchase_data[\"SN\"].value_counts())\n",
    "player_count=pd.DataFrame({\"Total Players\":[total_players]})\n",
    "player_count"
   ]
  },
  {
   "cell_type": "markdown",
   "metadata": {},
   "source": [
    "## Purchasing Analysis (Total)"
   ]
  },
  {
   "cell_type": "raw",
   "metadata": {},
   "source": []
  },
  {
   "cell_type": "markdown",
   "metadata": {},
   "source": [
    "* Run basic calculations to obtain number of unique items, average price, etc.\n",
    "\n",
    "\n",
    "* Create a summary data frame to hold the results\n",
    "\n",
    "\n",
    "* Optional: give the displayed data cleaner formatting\n",
    "\n",
    "\n",
    "* Display the summary data frame\n"
   ]
  },
  {
   "cell_type": "code",
   "execution_count": 42,
   "metadata": {
    "scrolled": true
   },
   "outputs": [
    {
     "data": {
      "text/html": [
       "<style  type=\"text/css\" >\n",
       "</style><table id=\"T_d2f19b2e_d8ca_11e9_ac3b_24ee9a949b7e\" ><thead>    <tr>        <th class=\"blank level0\" ></th>        <th class=\"col_heading level0 col0\" >unique Items</th>        <th class=\"col_heading level0 col1\" >Average Price</th>        <th class=\"col_heading level0 col2\" >Number of Purchases</th>        <th class=\"col_heading level0 col3\" >Total Revenue</th>    </tr></thead><tbody>\n",
       "                <tr>\n",
       "                        <th id=\"T_d2f19b2e_d8ca_11e9_ac3b_24ee9a949b7elevel0_row0\" class=\"row_heading level0 row0\" >0</th>\n",
       "                        <td id=\"T_d2f19b2e_d8ca_11e9_ac3b_24ee9a949b7erow0_col0\" class=\"data row0 col0\" >183</td>\n",
       "                        <td id=\"T_d2f19b2e_d8ca_11e9_ac3b_24ee9a949b7erow0_col1\" class=\"data row0 col1\" >$3.05</td>\n",
       "                        <td id=\"T_d2f19b2e_d8ca_11e9_ac3b_24ee9a949b7erow0_col2\" class=\"data row0 col2\" >780</td>\n",
       "                        <td id=\"T_d2f19b2e_d8ca_11e9_ac3b_24ee9a949b7erow0_col3\" class=\"data row0 col3\" >$2,379.77</td>\n",
       "            </tr>\n",
       "    </tbody></table>"
      ],
      "text/plain": [
       "<pandas.io.formats.style.Styler at 0x111da7956d8>"
      ]
     },
     "execution_count": 42,
     "metadata": {},
     "output_type": "execute_result"
    }
   ],
   "source": [
    "unique_items=len((purchase_data[\"Item ID\"]).unique())\n",
    "average_price=(purchase_data[\"Price\"]).mean()\n",
    "number_purchases=(purchase_data[\"Purchase ID\"]).count()\n",
    "total_revenue=(purchase_data[\"Price\"]).sum()\n",
    "\n",
    "values_df=pd.DataFrame({\"unique Items\":[unique_items],\n",
    "                       \"Average Price\":[average_price],\n",
    "                       \"Number of Purchases\":[number_purchases],\n",
    "                       \"Total Revenue\":[total_revenue]})\n",
    "values_df.style.format({'Average Price':\"${:,.2f}\",\n",
    "                       'Total Revenue':\"${:,.2f}\"})"
   ]
  },
  {
   "cell_type": "markdown",
   "metadata": {},
   "source": [
    "## Gender Demographics"
   ]
  },
  {
   "cell_type": "markdown",
   "metadata": {},
   "source": [
    "* Percentage and Count of Male Players\n",
    "\n",
    "\n",
    "* Percentage and Count of Female Players\n",
    "\n",
    "\n",
    "* Percentage and Count of Other / Non-Disclosed\n",
    "\n",
    "\n"
   ]
  },
  {
   "cell_type": "code",
   "execution_count": 43,
   "metadata": {},
   "outputs": [
    {
     "data": {
      "text/html": [
       "<style  type=\"text/css\" >\n",
       "</style><table id=\"T_d4ef3148_d8ca_11e9_a25e_24ee9a949b7e\" ><thead>    <tr>        <th class=\"blank level0\" ></th>        <th class=\"col_heading level0 col0\" >Percentage of Players</th>        <th class=\"col_heading level0 col1\" >Total Count</th>    </tr></thead><tbody>\n",
       "                <tr>\n",
       "                        <th id=\"T_d4ef3148_d8ca_11e9_a25e_24ee9a949b7elevel0_row0\" class=\"row_heading level0 row0\" >Male</th>\n",
       "                        <td id=\"T_d4ef3148_d8ca_11e9_a25e_24ee9a949b7erow0_col0\" class=\"data row0 col0\" >84.03</td>\n",
       "                        <td id=\"T_d4ef3148_d8ca_11e9_a25e_24ee9a949b7erow0_col1\" class=\"data row0 col1\" >484</td>\n",
       "            </tr>\n",
       "            <tr>\n",
       "                        <th id=\"T_d4ef3148_d8ca_11e9_a25e_24ee9a949b7elevel0_row1\" class=\"row_heading level0 row1\" >Female</th>\n",
       "                        <td id=\"T_d4ef3148_d8ca_11e9_a25e_24ee9a949b7erow1_col0\" class=\"data row1 col0\" >14.06</td>\n",
       "                        <td id=\"T_d4ef3148_d8ca_11e9_a25e_24ee9a949b7erow1_col1\" class=\"data row1 col1\" >81</td>\n",
       "            </tr>\n",
       "            <tr>\n",
       "                        <th id=\"T_d4ef3148_d8ca_11e9_a25e_24ee9a949b7elevel0_row2\" class=\"row_heading level0 row2\" >Other / Non-Disclosed</th>\n",
       "                        <td id=\"T_d4ef3148_d8ca_11e9_a25e_24ee9a949b7erow2_col0\" class=\"data row2 col0\" >1.91</td>\n",
       "                        <td id=\"T_d4ef3148_d8ca_11e9_a25e_24ee9a949b7erow2_col1\" class=\"data row2 col1\" >11</td>\n",
       "            </tr>\n",
       "    </tbody></table>"
      ],
      "text/plain": [
       "<pandas.io.formats.style.Styler at 0x111da652128>"
      ]
     },
     "execution_count": 43,
     "metadata": {},
     "output_type": "execute_result"
    }
   ],
   "source": [
    "gender_stats=purchase_data.groupby(\"Gender\")\n",
    "count_gender = gender_stats.nunique()[\"SN\"]\n",
    "percentage_players = count_gender/total_players*100\n",
    "\n",
    "gender_demographics=pd.DataFrame({\"Percentage of Players\":percentage_players, \"Total Count\":count_gender})\n",
    "gender_demographics.index.name=None\n",
    "gender_demographics.sort_values([\"Total Count\"], ascending=False).style.format({\"Percentage of Players\":\"{:.2f}\"})\n"
   ]
  },
  {
   "cell_type": "markdown",
   "metadata": {},
   "source": [
    "\n",
    "## Purchasing Analysis (Gender)"
   ]
  },
  {
   "cell_type": "markdown",
   "metadata": {},
   "source": [
    "* Run basic calculations to obtain purchase count, avg. purchase price, avg. purchase total per person etc. by gender\n",
    "\n",
    "\n",
    "\n",
    "\n",
    "* Create a summary data frame to hold the results\n",
    "\n",
    "\n",
    "* Optional: give the displayed data cleaner formatting\n",
    "\n",
    "\n",
    "* Display the summary data frame"
   ]
  },
  {
   "cell_type": "code",
   "execution_count": 44,
   "metadata": {},
   "outputs": [
    {
     "ename": "NameError",
     "evalue": "name 'average_purchase_price' is not defined",
     "output_type": "error",
     "traceback": [
      "\u001b[1;31m---------------------------------------------------------------------------\u001b[0m",
      "\u001b[1;31mNameError\u001b[0m                                 Traceback (most recent call last)",
      "\u001b[1;32m<ipython-input-44-01c2705d6381>\u001b[0m in \u001b[0;36m<module>\u001b[1;34m\u001b[0m\n\u001b[0;32m     10\u001b[0m \u001b[1;33m\u001b[0m\u001b[0m\n\u001b[0;32m     11\u001b[0m gender_demographics=pd.DataFrame({\"Purchase Count\": purchase_count,\n\u001b[1;32m---> 12\u001b[1;33m                                   \u001b[1;34m\"Average Purchase Price\"\u001b[0m\u001b[1;33m:\u001b[0m \u001b[0maverage_purchase_price\u001b[0m\u001b[1;33m,\u001b[0m\u001b[1;33m\u001b[0m\u001b[1;33m\u001b[0m\u001b[0m\n\u001b[0m\u001b[0;32m     13\u001b[0m                                  \"Average Purchase Total per Person\":avg_purchase_per_person})\n\u001b[0;32m     14\u001b[0m \u001b[1;33m\u001b[0m\u001b[0m\n",
      "\u001b[1;31mNameError\u001b[0m: name 'average_purchase_price' is not defined"
     ]
    }
   ],
   "source": [
    "#Purchase Count\n",
    "purchase_count=gender_stats[\"Purchase ID\"].count()\n",
    "\n",
    "avg_purchase_price=gender_stats[\"Price\"].mean()\n",
    "\n",
    "avg_purchase_total=gender_stats[\"Price\"].sum()\n",
    "\n",
    "\n",
    "avg_purchase_per_person=avg_purchase_total/count_gender\n",
    "\n",
    "gender_demographics=pd.DataFrame({\"Purchase Count\": purchase_count,\n",
    "                                  \"Average Purchase Price\": average_purchase_price,\n",
    "                                 \"Average Purchase Total per Person\":avg_purchase_per_person})\n",
    "\n",
    "gender_demographics.index.name=None\n",
    "\n",
    "gender_demographics.style.format({\"Average Purchase Value\":\"${:,.2f}\",\n",
    "                                 \"Average Purchase Price\":\"${:,.2f}\",\n",
    "                                 \"Average Purchase Total per Person\":\"${:,.2f}\"})\n",
    "\n"
   ]
  },
  {
   "cell_type": "markdown",
   "metadata": {},
   "source": [
    "## Age Demographics"
   ]
  },
  {
   "cell_type": "markdown",
   "metadata": {},
   "source": [
    "* Establish bins for ages\n",
    "\n",
    "\n",
    "* Categorize the existing players using the age bins. Hint: use pd.cut()\n",
    "\n",
    "\n",
    "* Calculate the numbers and percentages by age group\n",
    "\n",
    "\n",
    "* Create a summary data frame to hold the results\n",
    "\n",
    "\n",
    "* Optional: round the percentage column to two decimal points\n",
    "\n",
    "\n",
    "* Display Age Demographics Table\n"
   ]
  },
  {
   "cell_type": "code",
   "execution_count": 45,
   "metadata": {
    "scrolled": true
   },
   "outputs": [
    {
     "ename": "NameError",
     "evalue": "name 'purchase' is not defined",
     "output_type": "error",
     "traceback": [
      "\u001b[1;31m---------------------------------------------------------------------------\u001b[0m",
      "\u001b[1;31mNameError\u001b[0m                                 Traceback (most recent call last)",
      "\u001b[1;32m<ipython-input-45-2025cbb4c0ac>\u001b[0m in \u001b[0;36m<module>\u001b[1;34m\u001b[0m\n\u001b[0;32m      9\u001b[0m \u001b[0mcount_age\u001b[0m \u001b[1;33m=\u001b[0m \u001b[0mdemographics_age\u001b[0m\u001b[1;33m[\u001b[0m\u001b[1;34m\"SN\"\u001b[0m\u001b[1;33m]\u001b[0m\u001b[1;33m.\u001b[0m\u001b[0mnunique\u001b[0m\u001b[1;33m(\u001b[0m\u001b[1;33m)\u001b[0m\u001b[1;33m\u001b[0m\u001b[1;33m\u001b[0m\u001b[0m\n\u001b[0;32m     10\u001b[0m \u001b[1;33m\u001b[0m\u001b[0m\n\u001b[1;32m---> 11\u001b[1;33m \u001b[0mpercent_age\u001b[0m \u001b[1;33m=\u001b[0m \u001b[1;33m(\u001b[0m\u001b[0mcount_age\u001b[0m\u001b[1;33m/\u001b[0m\u001b[0mpurchase\u001b[0m\u001b[1;33m)\u001b[0m\u001b[1;33m*\u001b[0m\u001b[1;36m100\u001b[0m\u001b[1;33m\u001b[0m\u001b[1;33m\u001b[0m\u001b[0m\n\u001b[0m\u001b[0;32m     12\u001b[0m demographics_age = pd.DataFrame({\"Total Count\":count_age, \n\u001b[0;32m     13\u001b[0m                                  \"Percentage of Players\":percent_age})\n",
      "\u001b[1;31mNameError\u001b[0m: name 'purchase' is not defined"
     ]
    }
   ],
   "source": [
    "age_bins = [0, 9.90, 14.90, 19.90, 24.90, 29.90, 34.90, 39.90, 9999]\n",
    "group_name = [\"<10\", \"10-14\", \"15-19\", \"20-24\", \"25-29\", \"30-34\", \"35-39\", \"40+\"]\n",
    "\n",
    "purchase_data[\"Age Group\"] = pd.cut(purchase_data[\"Age\"], age_bins, labels = group_name)\n",
    "purchase_data\n",
    "\n",
    "demographics_age = purchase_data.groupby([\"Age Group\"])\n",
    "\n",
    "count_age = demographics_age[\"SN\"].nunique()\n",
    "\n",
    "percent_age = (count_age/purchase)*100\n",
    "demographics_age = pd.DataFrame({\"Total Count\":count_age, \n",
    "                                 \"Percentage of Players\":percent_age})\n",
    "\n",
    "demographics_age.style.format({\"Percentage of Players\":\"${:,.2f}\"})"
   ]
  },
  {
   "cell_type": "markdown",
   "metadata": {},
   "source": [
    "## Purchasing Analysis (Age)"
   ]
  },
  {
   "cell_type": "markdown",
   "metadata": {},
   "source": [
    "* Bin the purchase_data data frame by age\n",
    "\n",
    "\n",
    "* Run basic calculations to obtain purchase count, avg. purchase price, avg. purchase total per person etc. in the table below\n",
    "\n",
    "\n",
    "* Create a summary data frame to hold the results\n",
    "\n",
    "\n",
    "* Optional: give the displayed data cleaner formatting\n",
    "\n",
    "\n",
    "* Display the summary data frame"
   ]
  },
  {
   "cell_type": "code",
   "execution_count": 46,
   "metadata": {},
   "outputs": [
    {
     "data": {
      "text/html": [
       "<style  type=\"text/css\" >\n",
       "</style><table id=\"T_dd6cfbe8_d8ca_11e9_aed7_24ee9a949b7e\" ><thead>    <tr>        <th class=\"blank level0\" ></th>        <th class=\"col_heading level0 col0\" >Purchase Count</th>        <th class=\"col_heading level0 col1\" >Average Purchase Price</th>        <th class=\"col_heading level0 col2\" >Total Purchase Value</th>        <th class=\"col_heading level0 col3\" >Avg Total Purchase per Person</th>    </tr>    <tr>        <th class=\"index_name level0\" >Age Group</th>        <th class=\"blank\" ></th>        <th class=\"blank\" ></th>        <th class=\"blank\" ></th>        <th class=\"blank\" ></th>    </tr></thead><tbody>\n",
       "                <tr>\n",
       "                        <th id=\"T_dd6cfbe8_d8ca_11e9_aed7_24ee9a949b7elevel0_row0\" class=\"row_heading level0 row0\" ><10</th>\n",
       "                        <td id=\"T_dd6cfbe8_d8ca_11e9_aed7_24ee9a949b7erow0_col0\" class=\"data row0 col0\" >23</td>\n",
       "                        <td id=\"T_dd6cfbe8_d8ca_11e9_aed7_24ee9a949b7erow0_col1\" class=\"data row0 col1\" >$3.35</td>\n",
       "                        <td id=\"T_dd6cfbe8_d8ca_11e9_aed7_24ee9a949b7erow0_col2\" class=\"data row0 col2\" >$77.13</td>\n",
       "                        <td id=\"T_dd6cfbe8_d8ca_11e9_aed7_24ee9a949b7erow0_col3\" class=\"data row0 col3\" >$4.54</td>\n",
       "            </tr>\n",
       "            <tr>\n",
       "                        <th id=\"T_dd6cfbe8_d8ca_11e9_aed7_24ee9a949b7elevel0_row1\" class=\"row_heading level0 row1\" >10-14</th>\n",
       "                        <td id=\"T_dd6cfbe8_d8ca_11e9_aed7_24ee9a949b7erow1_col0\" class=\"data row1 col0\" >28</td>\n",
       "                        <td id=\"T_dd6cfbe8_d8ca_11e9_aed7_24ee9a949b7erow1_col1\" class=\"data row1 col1\" >$2.96</td>\n",
       "                        <td id=\"T_dd6cfbe8_d8ca_11e9_aed7_24ee9a949b7erow1_col2\" class=\"data row1 col2\" >$82.78</td>\n",
       "                        <td id=\"T_dd6cfbe8_d8ca_11e9_aed7_24ee9a949b7erow1_col3\" class=\"data row1 col3\" >$3.76</td>\n",
       "            </tr>\n",
       "            <tr>\n",
       "                        <th id=\"T_dd6cfbe8_d8ca_11e9_aed7_24ee9a949b7elevel0_row2\" class=\"row_heading level0 row2\" >15-19</th>\n",
       "                        <td id=\"T_dd6cfbe8_d8ca_11e9_aed7_24ee9a949b7erow2_col0\" class=\"data row2 col0\" >136</td>\n",
       "                        <td id=\"T_dd6cfbe8_d8ca_11e9_aed7_24ee9a949b7erow2_col1\" class=\"data row2 col1\" >$3.04</td>\n",
       "                        <td id=\"T_dd6cfbe8_d8ca_11e9_aed7_24ee9a949b7erow2_col2\" class=\"data row2 col2\" >$412.89</td>\n",
       "                        <td id=\"T_dd6cfbe8_d8ca_11e9_aed7_24ee9a949b7erow2_col3\" class=\"data row2 col3\" >$3.86</td>\n",
       "            </tr>\n",
       "            <tr>\n",
       "                        <th id=\"T_dd6cfbe8_d8ca_11e9_aed7_24ee9a949b7elevel0_row3\" class=\"row_heading level0 row3\" >20-24</th>\n",
       "                        <td id=\"T_dd6cfbe8_d8ca_11e9_aed7_24ee9a949b7erow3_col0\" class=\"data row3 col0\" >365</td>\n",
       "                        <td id=\"T_dd6cfbe8_d8ca_11e9_aed7_24ee9a949b7erow3_col1\" class=\"data row3 col1\" >$3.05</td>\n",
       "                        <td id=\"T_dd6cfbe8_d8ca_11e9_aed7_24ee9a949b7erow3_col2\" class=\"data row3 col2\" >$1,114.06</td>\n",
       "                        <td id=\"T_dd6cfbe8_d8ca_11e9_aed7_24ee9a949b7erow3_col3\" class=\"data row3 col3\" >$4.32</td>\n",
       "            </tr>\n",
       "            <tr>\n",
       "                        <th id=\"T_dd6cfbe8_d8ca_11e9_aed7_24ee9a949b7elevel0_row4\" class=\"row_heading level0 row4\" >25-29</th>\n",
       "                        <td id=\"T_dd6cfbe8_d8ca_11e9_aed7_24ee9a949b7erow4_col0\" class=\"data row4 col0\" >101</td>\n",
       "                        <td id=\"T_dd6cfbe8_d8ca_11e9_aed7_24ee9a949b7erow4_col1\" class=\"data row4 col1\" >$2.90</td>\n",
       "                        <td id=\"T_dd6cfbe8_d8ca_11e9_aed7_24ee9a949b7erow4_col2\" class=\"data row4 col2\" >$293.00</td>\n",
       "                        <td id=\"T_dd6cfbe8_d8ca_11e9_aed7_24ee9a949b7erow4_col3\" class=\"data row4 col3\" >$3.81</td>\n",
       "            </tr>\n",
       "            <tr>\n",
       "                        <th id=\"T_dd6cfbe8_d8ca_11e9_aed7_24ee9a949b7elevel0_row5\" class=\"row_heading level0 row5\" >30-34</th>\n",
       "                        <td id=\"T_dd6cfbe8_d8ca_11e9_aed7_24ee9a949b7erow5_col0\" class=\"data row5 col0\" >73</td>\n",
       "                        <td id=\"T_dd6cfbe8_d8ca_11e9_aed7_24ee9a949b7erow5_col1\" class=\"data row5 col1\" >$2.93</td>\n",
       "                        <td id=\"T_dd6cfbe8_d8ca_11e9_aed7_24ee9a949b7erow5_col2\" class=\"data row5 col2\" >$214.00</td>\n",
       "                        <td id=\"T_dd6cfbe8_d8ca_11e9_aed7_24ee9a949b7erow5_col3\" class=\"data row5 col3\" >$4.12</td>\n",
       "            </tr>\n",
       "            <tr>\n",
       "                        <th id=\"T_dd6cfbe8_d8ca_11e9_aed7_24ee9a949b7elevel0_row6\" class=\"row_heading level0 row6\" >35-39</th>\n",
       "                        <td id=\"T_dd6cfbe8_d8ca_11e9_aed7_24ee9a949b7erow6_col0\" class=\"data row6 col0\" >41</td>\n",
       "                        <td id=\"T_dd6cfbe8_d8ca_11e9_aed7_24ee9a949b7erow6_col1\" class=\"data row6 col1\" >$3.60</td>\n",
       "                        <td id=\"T_dd6cfbe8_d8ca_11e9_aed7_24ee9a949b7erow6_col2\" class=\"data row6 col2\" >$147.67</td>\n",
       "                        <td id=\"T_dd6cfbe8_d8ca_11e9_aed7_24ee9a949b7erow6_col3\" class=\"data row6 col3\" >$4.76</td>\n",
       "            </tr>\n",
       "            <tr>\n",
       "                        <th id=\"T_dd6cfbe8_d8ca_11e9_aed7_24ee9a949b7elevel0_row7\" class=\"row_heading level0 row7\" >40+</th>\n",
       "                        <td id=\"T_dd6cfbe8_d8ca_11e9_aed7_24ee9a949b7erow7_col0\" class=\"data row7 col0\" >13</td>\n",
       "                        <td id=\"T_dd6cfbe8_d8ca_11e9_aed7_24ee9a949b7erow7_col1\" class=\"data row7 col1\" >$2.94</td>\n",
       "                        <td id=\"T_dd6cfbe8_d8ca_11e9_aed7_24ee9a949b7erow7_col2\" class=\"data row7 col2\" >$38.24</td>\n",
       "                        <td id=\"T_dd6cfbe8_d8ca_11e9_aed7_24ee9a949b7erow7_col3\" class=\"data row7 col3\" >$3.19</td>\n",
       "            </tr>\n",
       "    </tbody></table>"
      ],
      "text/plain": [
       "<pandas.io.formats.style.Styler at 0x111da6600b8>"
      ]
     },
     "execution_count": 46,
     "metadata": {},
     "output_type": "execute_result"
    }
   ],
   "source": [
    "purchase_age_count = age_demo[\"Purchase ID\"].count()\n",
    "\n",
    "average_purchase_count = age_demo[\"Price\"].mean()\n",
    "\n",
    "total_purchase_value = age_demo[\"Price\"].sum()\n",
    "\n",
    "avg_total_per = total_purchase_value/count_age\n",
    "\n",
    "purchasing_analysis = pd.DataFrame({\"Purchase Count\":purchase_age_count, \"Average Purchase Price\":average_purchase_count,\"Total Purchase Value\":total_purchase_value,\"Avg Total Purchase per Person\":avg_total_per})\n",
    "\n",
    "purchasing_analysis.style.format({\"Average Purchase Price\":\"${:,.2f}\",\n",
    "                                   \"Total Purchase Value\":\"${:,.2f}\",\n",
    "                                   \"Avg Total Purchase per Person\":\"${:,.2f}\"})"
   ]
  },
  {
   "cell_type": "markdown",
   "metadata": {},
   "source": [
    "## Top Spenders"
   ]
  },
  {
   "cell_type": "markdown",
   "metadata": {},
   "source": [
    "* Run basic calculations to obtain the results in the table below\n",
    "\n",
    "\n",
    "* Create a summary data frame to hold the results\n",
    "\n",
    "\n",
    "* Sort the total purchase value column in descending order\n",
    "\n",
    "\n",
    "* Optional: give the displayed data cleaner formatting\n",
    "\n",
    "\n",
    "* Display a preview of the summary data frame\n",
    "\n"
   ]
  },
  {
   "cell_type": "code",
   "execution_count": 47,
   "metadata": {},
   "outputs": [
    {
     "data": {
      "text/html": [
       "<style  type=\"text/css\" >\n",
       "</style><table id=\"T_e054179c_d8ca_11e9_a681_24ee9a949b7e\" ><thead>    <tr>        <th class=\"blank level0\" ></th>        <th class=\"col_heading level0 col0\" >Purchase Count</th>        <th class=\"col_heading level0 col1\" >Average Purchase Price</th>        <th class=\"col_heading level0 col2\" >Total Purchase Value</th>    </tr>    <tr>        <th class=\"index_name level0\" >SN</th>        <th class=\"blank\" ></th>        <th class=\"blank\" ></th>        <th class=\"blank\" ></th>    </tr></thead><tbody>\n",
       "                <tr>\n",
       "                        <th id=\"T_e054179c_d8ca_11e9_a681_24ee9a949b7elevel0_row0\" class=\"row_heading level0 row0\" >Lisosia93</th>\n",
       "                        <td id=\"T_e054179c_d8ca_11e9_a681_24ee9a949b7erow0_col0\" class=\"data row0 col0\" >5</td>\n",
       "                        <td id=\"T_e054179c_d8ca_11e9_a681_24ee9a949b7erow0_col1\" class=\"data row0 col1\" >$3.79</td>\n",
       "                        <td id=\"T_e054179c_d8ca_11e9_a681_24ee9a949b7erow0_col2\" class=\"data row0 col2\" >$18.96</td>\n",
       "            </tr>\n",
       "            <tr>\n",
       "                        <th id=\"T_e054179c_d8ca_11e9_a681_24ee9a949b7elevel0_row1\" class=\"row_heading level0 row1\" >Idastidru52</th>\n",
       "                        <td id=\"T_e054179c_d8ca_11e9_a681_24ee9a949b7erow1_col0\" class=\"data row1 col0\" >4</td>\n",
       "                        <td id=\"T_e054179c_d8ca_11e9_a681_24ee9a949b7erow1_col1\" class=\"data row1 col1\" >$3.86</td>\n",
       "                        <td id=\"T_e054179c_d8ca_11e9_a681_24ee9a949b7erow1_col2\" class=\"data row1 col2\" >$15.45</td>\n",
       "            </tr>\n",
       "            <tr>\n",
       "                        <th id=\"T_e054179c_d8ca_11e9_a681_24ee9a949b7elevel0_row2\" class=\"row_heading level0 row2\" >Chamjask73</th>\n",
       "                        <td id=\"T_e054179c_d8ca_11e9_a681_24ee9a949b7erow2_col0\" class=\"data row2 col0\" >3</td>\n",
       "                        <td id=\"T_e054179c_d8ca_11e9_a681_24ee9a949b7erow2_col1\" class=\"data row2 col1\" >$4.61</td>\n",
       "                        <td id=\"T_e054179c_d8ca_11e9_a681_24ee9a949b7erow2_col2\" class=\"data row2 col2\" >$13.83</td>\n",
       "            </tr>\n",
       "            <tr>\n",
       "                        <th id=\"T_e054179c_d8ca_11e9_a681_24ee9a949b7elevel0_row3\" class=\"row_heading level0 row3\" >Iral74</th>\n",
       "                        <td id=\"T_e054179c_d8ca_11e9_a681_24ee9a949b7erow3_col0\" class=\"data row3 col0\" >4</td>\n",
       "                        <td id=\"T_e054179c_d8ca_11e9_a681_24ee9a949b7erow3_col1\" class=\"data row3 col1\" >$3.40</td>\n",
       "                        <td id=\"T_e054179c_d8ca_11e9_a681_24ee9a949b7erow3_col2\" class=\"data row3 col2\" >$13.62</td>\n",
       "            </tr>\n",
       "            <tr>\n",
       "                        <th id=\"T_e054179c_d8ca_11e9_a681_24ee9a949b7elevel0_row4\" class=\"row_heading level0 row4\" >Iskadarya95</th>\n",
       "                        <td id=\"T_e054179c_d8ca_11e9_a681_24ee9a949b7erow4_col0\" class=\"data row4 col0\" >3</td>\n",
       "                        <td id=\"T_e054179c_d8ca_11e9_a681_24ee9a949b7erow4_col1\" class=\"data row4 col1\" >$4.37</td>\n",
       "                        <td id=\"T_e054179c_d8ca_11e9_a681_24ee9a949b7erow4_col2\" class=\"data row4 col2\" >$13.10</td>\n",
       "            </tr>\n",
       "    </tbody></table>"
      ],
      "text/plain": [
       "<pandas.io.formats.style.Styler at 0x111da767828>"
      ]
     },
     "execution_count": 47,
     "metadata": {},
     "output_type": "execute_result"
    }
   ],
   "source": [
    "top_spenders = purchase_data.groupby([\"SN\"])\n",
    "\n",
    "pur_count = top_spenders[\"Purchase ID\"].count()\n",
    "\n",
    "avg_pur_price = top_spenders[\"Price\"].mean()\n",
    "\n",
    "total_pur_value = top_spenders[\"Price\"].sum()\n",
    "\n",
    "spenders = pd.DataFrame({\"Purchase Count\":pur_count,\"Average Purchase Price\":avg_pur_price,\n",
    "                         \"Total Purchase Value\":total_pur_value})\n",
    "\n",
    "formatted_spenders = spenders.sort_values([\"Total Purchase Value\"], ascending=False).head()\n",
    "\n",
    "formatted_spenders.style.format({\"Average Purchase Price\":\"${:,.2f}\",\n",
    "                                 \"Total Purchase Value\":\"${:,.2f}\"})"
   ]
  },
  {
   "cell_type": "markdown",
   "metadata": {},
   "source": [
    "## Most Popular Items"
   ]
  },
  {
   "cell_type": "markdown",
   "metadata": {},
   "source": [
    "* Retrieve the Item ID, Item Name, and Item Price columns\n",
    "\n",
    "\n",
    "* Group by Item ID and Item Name. Perform calculations to obtain purchase count, item price, and total purchase value\n",
    "\n",
    "\n",
    "* Create a summary data frame to hold the results\n",
    "\n",
    "\n",
    "* Sort the purchase count column in descending order\n",
    "\n",
    "\n",
    "* Optional: give the displayed data cleaner formatting\n",
    "\n",
    "\n",
    "* Display a preview of the summary data frame\n",
    "\n"
   ]
  },
  {
   "cell_type": "code",
   "execution_count": 48,
   "metadata": {},
   "outputs": [
    {
     "data": {
      "text/html": [
       "<style  type=\"text/css\" >\n",
       "</style><table id=\"T_e2a75102_d8ca_11e9_b239_24ee9a949b7e\" ><thead>    <tr>        <th class=\"blank\" ></th>        <th class=\"blank level0\" ></th>        <th class=\"col_heading level0 col0\" >Purchase Count</th>        <th class=\"col_heading level0 col1\" >Item Price</th>        <th class=\"col_heading level0 col2\" >Total Purchase Value</th>    </tr>    <tr>        <th class=\"index_name level0\" >Item ID</th>        <th class=\"index_name level1\" >Item Name</th>        <th class=\"blank\" ></th>        <th class=\"blank\" ></th>        <th class=\"blank\" ></th>    </tr></thead><tbody>\n",
       "                <tr>\n",
       "                        <th id=\"T_e2a75102_d8ca_11e9_b239_24ee9a949b7elevel0_row0\" class=\"row_heading level0 row0\" >178</th>\n",
       "                        <th id=\"T_e2a75102_d8ca_11e9_b239_24ee9a949b7elevel1_row0\" class=\"row_heading level1 row0\" >Oathbreaker, Last Hope of the Breaking Storm</th>\n",
       "                        <td id=\"T_e2a75102_d8ca_11e9_b239_24ee9a949b7erow0_col0\" class=\"data row0 col0\" >12</td>\n",
       "                        <td id=\"T_e2a75102_d8ca_11e9_b239_24ee9a949b7erow0_col1\" class=\"data row0 col1\" >$4.23</td>\n",
       "                        <td id=\"T_e2a75102_d8ca_11e9_b239_24ee9a949b7erow0_col2\" class=\"data row0 col2\" >$50.76</td>\n",
       "            </tr>\n",
       "            <tr>\n",
       "                        <th id=\"T_e2a75102_d8ca_11e9_b239_24ee9a949b7elevel0_row1\" class=\"row_heading level0 row1\" >145</th>\n",
       "                        <th id=\"T_e2a75102_d8ca_11e9_b239_24ee9a949b7elevel1_row1\" class=\"row_heading level1 row1\" >Fiery Glass Crusader</th>\n",
       "                        <td id=\"T_e2a75102_d8ca_11e9_b239_24ee9a949b7erow1_col0\" class=\"data row1 col0\" >9</td>\n",
       "                        <td id=\"T_e2a75102_d8ca_11e9_b239_24ee9a949b7erow1_col1\" class=\"data row1 col1\" >$4.58</td>\n",
       "                        <td id=\"T_e2a75102_d8ca_11e9_b239_24ee9a949b7erow1_col2\" class=\"data row1 col2\" >$41.22</td>\n",
       "            </tr>\n",
       "            <tr>\n",
       "                        <th id=\"T_e2a75102_d8ca_11e9_b239_24ee9a949b7elevel0_row2\" class=\"row_heading level0 row2\" >108</th>\n",
       "                        <th id=\"T_e2a75102_d8ca_11e9_b239_24ee9a949b7elevel1_row2\" class=\"row_heading level1 row2\" >Extraction, Quickblade Of Trembling Hands</th>\n",
       "                        <td id=\"T_e2a75102_d8ca_11e9_b239_24ee9a949b7erow2_col0\" class=\"data row2 col0\" >9</td>\n",
       "                        <td id=\"T_e2a75102_d8ca_11e9_b239_24ee9a949b7erow2_col1\" class=\"data row2 col1\" >$3.53</td>\n",
       "                        <td id=\"T_e2a75102_d8ca_11e9_b239_24ee9a949b7erow2_col2\" class=\"data row2 col2\" >$31.77</td>\n",
       "            </tr>\n",
       "            <tr>\n",
       "                        <th id=\"T_e2a75102_d8ca_11e9_b239_24ee9a949b7elevel0_row3\" class=\"row_heading level0 row3\" >82</th>\n",
       "                        <th id=\"T_e2a75102_d8ca_11e9_b239_24ee9a949b7elevel1_row3\" class=\"row_heading level1 row3\" >Nirvana</th>\n",
       "                        <td id=\"T_e2a75102_d8ca_11e9_b239_24ee9a949b7erow3_col0\" class=\"data row3 col0\" >9</td>\n",
       "                        <td id=\"T_e2a75102_d8ca_11e9_b239_24ee9a949b7erow3_col1\" class=\"data row3 col1\" >$4.90</td>\n",
       "                        <td id=\"T_e2a75102_d8ca_11e9_b239_24ee9a949b7erow3_col2\" class=\"data row3 col2\" >$44.10</td>\n",
       "            </tr>\n",
       "            <tr>\n",
       "                        <th id=\"T_e2a75102_d8ca_11e9_b239_24ee9a949b7elevel0_row4\" class=\"row_heading level0 row4\" >19</th>\n",
       "                        <th id=\"T_e2a75102_d8ca_11e9_b239_24ee9a949b7elevel1_row4\" class=\"row_heading level1 row4\" >Pursuit, Cudgel of Necromancy</th>\n",
       "                        <td id=\"T_e2a75102_d8ca_11e9_b239_24ee9a949b7erow4_col0\" class=\"data row4 col0\" >8</td>\n",
       "                        <td id=\"T_e2a75102_d8ca_11e9_b239_24ee9a949b7erow4_col1\" class=\"data row4 col1\" >$1.02</td>\n",
       "                        <td id=\"T_e2a75102_d8ca_11e9_b239_24ee9a949b7erow4_col2\" class=\"data row4 col2\" >$8.16</td>\n",
       "            </tr>\n",
       "    </tbody></table>"
      ],
      "text/plain": [
       "<pandas.io.formats.style.Styler at 0x111da6604e0>"
      ]
     },
     "execution_count": 48,
     "metadata": {},
     "output_type": "execute_result"
    }
   ],
   "source": [
    "Items = purchase_data[[\"Item ID\",\"Item Name\",\"Price\"]]\n",
    "\n",
    "Item_popular = Items.groupby([\"Item ID\",\"Item Name\"])\n",
    "purchasecount = Item_popular[\"Price\"].count()\n",
    "\n",
    "value_total = Item_popular[\"Price\"].sum()\n",
    "\n",
    "item_price = value_total/purchasecount\n",
    "\n",
    "popular_items=pd.DataFrame({\"Purchase Count\":purchasecount,\n",
    "                            \"Item Price\":item_price,\n",
    "                            \"Total Purchase Value\":value_total})\n",
    "\n",
    "sorted_popular = popular_items.sort_values([\"Purchase Count\"], ascending=False).head()\n",
    "\n",
    "sorted_popular.style.format({\"Item Price\":\"${:,.2f}\",\n",
    "                             \"Total Purchase Value\":\"${:,.2f}\"})"
   ]
  },
  {
   "cell_type": "markdown",
   "metadata": {},
   "source": [
    "## Most Profitable Items"
   ]
  },
  {
   "cell_type": "markdown",
   "metadata": {},
   "source": [
    "* Sort the above table by total purchase value in descending order\n",
    "\n",
    "\n",
    "* Optional: give the displayed data cleaner formatting\n",
    "\n",
    "\n",
    "* Display a preview of the data frame\n",
    "\n"
   ]
  },
  {
   "cell_type": "code",
   "execution_count": 49,
   "metadata": {
    "scrolled": true
   },
   "outputs": [
    {
     "data": {
      "text/html": [
       "<style  type=\"text/css\" >\n",
       "</style><table id=\"T_e6b68462_d8ca_11e9_90cd_24ee9a949b7e\" ><thead>    <tr>        <th class=\"blank\" ></th>        <th class=\"blank level0\" ></th>        <th class=\"col_heading level0 col0\" >Purchase Count</th>        <th class=\"col_heading level0 col1\" >Item Price</th>        <th class=\"col_heading level0 col2\" >Total Purchase Value</th>    </tr>    <tr>        <th class=\"index_name level0\" >Item ID</th>        <th class=\"index_name level1\" >Item Name</th>        <th class=\"blank\" ></th>        <th class=\"blank\" ></th>        <th class=\"blank\" ></th>    </tr></thead><tbody>\n",
       "                <tr>\n",
       "                        <th id=\"T_e6b68462_d8ca_11e9_90cd_24ee9a949b7elevel0_row0\" class=\"row_heading level0 row0\" >178</th>\n",
       "                        <th id=\"T_e6b68462_d8ca_11e9_90cd_24ee9a949b7elevel1_row0\" class=\"row_heading level1 row0\" >Oathbreaker, Last Hope of the Breaking Storm</th>\n",
       "                        <td id=\"T_e6b68462_d8ca_11e9_90cd_24ee9a949b7erow0_col0\" class=\"data row0 col0\" >12</td>\n",
       "                        <td id=\"T_e6b68462_d8ca_11e9_90cd_24ee9a949b7erow0_col1\" class=\"data row0 col1\" >$4.23</td>\n",
       "                        <td id=\"T_e6b68462_d8ca_11e9_90cd_24ee9a949b7erow0_col2\" class=\"data row0 col2\" >$50.76</td>\n",
       "            </tr>\n",
       "            <tr>\n",
       "                        <th id=\"T_e6b68462_d8ca_11e9_90cd_24ee9a949b7elevel0_row1\" class=\"row_heading level0 row1\" >82</th>\n",
       "                        <th id=\"T_e6b68462_d8ca_11e9_90cd_24ee9a949b7elevel1_row1\" class=\"row_heading level1 row1\" >Nirvana</th>\n",
       "                        <td id=\"T_e6b68462_d8ca_11e9_90cd_24ee9a949b7erow1_col0\" class=\"data row1 col0\" >9</td>\n",
       "                        <td id=\"T_e6b68462_d8ca_11e9_90cd_24ee9a949b7erow1_col1\" class=\"data row1 col1\" >$4.90</td>\n",
       "                        <td id=\"T_e6b68462_d8ca_11e9_90cd_24ee9a949b7erow1_col2\" class=\"data row1 col2\" >$44.10</td>\n",
       "            </tr>\n",
       "            <tr>\n",
       "                        <th id=\"T_e6b68462_d8ca_11e9_90cd_24ee9a949b7elevel0_row2\" class=\"row_heading level0 row2\" >145</th>\n",
       "                        <th id=\"T_e6b68462_d8ca_11e9_90cd_24ee9a949b7elevel1_row2\" class=\"row_heading level1 row2\" >Fiery Glass Crusader</th>\n",
       "                        <td id=\"T_e6b68462_d8ca_11e9_90cd_24ee9a949b7erow2_col0\" class=\"data row2 col0\" >9</td>\n",
       "                        <td id=\"T_e6b68462_d8ca_11e9_90cd_24ee9a949b7erow2_col1\" class=\"data row2 col1\" >$4.58</td>\n",
       "                        <td id=\"T_e6b68462_d8ca_11e9_90cd_24ee9a949b7erow2_col2\" class=\"data row2 col2\" >$41.22</td>\n",
       "            </tr>\n",
       "            <tr>\n",
       "                        <th id=\"T_e6b68462_d8ca_11e9_90cd_24ee9a949b7elevel0_row3\" class=\"row_heading level0 row3\" >92</th>\n",
       "                        <th id=\"T_e6b68462_d8ca_11e9_90cd_24ee9a949b7elevel1_row3\" class=\"row_heading level1 row3\" >Final Critic</th>\n",
       "                        <td id=\"T_e6b68462_d8ca_11e9_90cd_24ee9a949b7erow3_col0\" class=\"data row3 col0\" >8</td>\n",
       "                        <td id=\"T_e6b68462_d8ca_11e9_90cd_24ee9a949b7erow3_col1\" class=\"data row3 col1\" >$4.88</td>\n",
       "                        <td id=\"T_e6b68462_d8ca_11e9_90cd_24ee9a949b7erow3_col2\" class=\"data row3 col2\" >$39.04</td>\n",
       "            </tr>\n",
       "            <tr>\n",
       "                        <th id=\"T_e6b68462_d8ca_11e9_90cd_24ee9a949b7elevel0_row4\" class=\"row_heading level0 row4\" >103</th>\n",
       "                        <th id=\"T_e6b68462_d8ca_11e9_90cd_24ee9a949b7elevel1_row4\" class=\"row_heading level1 row4\" >Singed Scalpel</th>\n",
       "                        <td id=\"T_e6b68462_d8ca_11e9_90cd_24ee9a949b7erow4_col0\" class=\"data row4 col0\" >8</td>\n",
       "                        <td id=\"T_e6b68462_d8ca_11e9_90cd_24ee9a949b7erow4_col1\" class=\"data row4 col1\" >$4.35</td>\n",
       "                        <td id=\"T_e6b68462_d8ca_11e9_90cd_24ee9a949b7erow4_col2\" class=\"data row4 col2\" >$34.80</td>\n",
       "            </tr>\n",
       "    </tbody></table>"
      ],
      "text/plain": [
       "<pandas.io.formats.style.Styler at 0x111da795940>"
      ]
     },
     "execution_count": 49,
     "metadata": {},
     "output_type": "execute_result"
    }
   ],
   "source": [
    "sorted_popular = popular_items.sort_values([\"Total Purchase Value\"],ascending=False).head()\n",
    "\n",
    "sorted_popular.style.format({\"Item Price\":\"${:,.2f}\",\n",
    "                             \"Total Purchase Value\":\"${:,.2f}\"})"
   ]
  },
  {
   "cell_type": "code",
   "execution_count": null,
   "metadata": {},
   "outputs": [],
   "source": []
  },
  {
   "cell_type": "code",
   "execution_count": null,
   "metadata": {},
   "outputs": [],
   "source": []
  },
  {
   "cell_type": "code",
   "execution_count": null,
   "metadata": {},
   "outputs": [],
   "source": []
  },
  {
   "cell_type": "code",
   "execution_count": null,
   "metadata": {},
   "outputs": [],
   "source": []
  }
 ],
 "metadata": {
  "anaconda-cloud": {},
  "kernel_info": {
   "name": "python3"
  },
  "kernelspec": {
   "display_name": "Python 3",
   "language": "python",
   "name": "python3"
  },
  "language_info": {
   "codemirror_mode": {
    "name": "ipython",
    "version": 3
   },
   "file_extension": ".py",
   "mimetype": "text/x-python",
   "name": "python",
   "nbconvert_exporter": "python",
   "pygments_lexer": "ipython3",
   "version": "3.7.3"
  },
  "latex_envs": {
   "LaTeX_envs_menu_present": true,
   "autoclose": false,
   "autocomplete": true,
   "bibliofile": "biblio.bib",
   "cite_by": "apalike",
   "current_citInitial": 1,
   "eqLabelWithNumbers": true,
   "eqNumInitial": 1,
   "hotkeys": {
    "equation": "Ctrl-E",
    "itemize": "Ctrl-I"
   },
   "labels_anchors": false,
   "latex_user_defs": false,
   "report_style_numbering": false,
   "user_envs_cfg": false
  },
  "nteract": {
   "version": "0.2.0"
  }
 },
 "nbformat": 4,
 "nbformat_minor": 2
}
